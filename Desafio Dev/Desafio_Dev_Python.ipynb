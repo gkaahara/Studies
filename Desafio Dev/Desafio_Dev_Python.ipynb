{
  "nbformat": 4,
  "nbformat_minor": 0,
  "metadata": {
    "colab": {
      "provenance": [],
      "authorship_tag": "ABX9TyPYLw+J8zbAGYkT/Md3UGER",
      "include_colab_link": true
    },
    "kernelspec": {
      "name": "python3",
      "display_name": "Python 3"
    },
    "language_info": {
      "name": "python"
    }
  },
  "cells": [
    {
      "cell_type": "markdown",
      "metadata": {
        "id": "view-in-github",
        "colab_type": "text"
      },
      "source": [
        "<a href=\"https://colab.research.google.com/github/gkaahara/Studies/blob/master/Desafio_Dev_Python.ipynb\" target=\"_parent\"><img src=\"https://colab.research.google.com/assets/colab-badge.svg\" alt=\"Open In Colab\"/></a>"
      ]
    },
    {
      "cell_type": "markdown",
      "source": [
        "##Início do código, com leitura do arquivo .csv e conversão dos itens para dicionário:"
      ],
      "metadata": {
        "id": "b4uNf6P2LW_6"
      }
    },
    {
      "cell_type": "code",
      "execution_count": 1,
      "metadata": {
        "id": "Y8fz3AAKJp0X"
      },
      "outputs": [],
      "source": [
        "import csv\n",
        "\n",
        "def ler_vendas(caminho_arquivo):\n",
        "\n",
        "    vendas = []\n",
        "    with open(caminho_arquivo, mode='r', encoding='utf-8') as arquivo:\n",
        "        leitor = csv.reader(arquivo)\n",
        "        headers = next(leitor)  # Ignora o cabeçalho\n",
        "        for linha in leitor:\n",
        "            produto = linha[0]\n",
        "            quantidade = int(linha[1])\n",
        "            preco_unitario = float(linha[2])\n",
        "            vendas.append({\n",
        "                'produto': produto,\n",
        "                'quantidade': quantidade,\n",
        "                'preco_unitario': preco_unitario\n",
        "            })\n",
        "    return vendas"
      ]
    },
    {
      "cell_type": "markdown",
      "source": [
        "##Processamento dos dados de venda para a geração do relatório:"
      ],
      "metadata": {
        "id": "YLVNbI7HMMo0"
      }
    },
    {
      "cell_type": "code",
      "source": [
        "def processar_vendas(vendas):\n",
        "    relatorio = {}\n",
        "    for venda in vendas:\n",
        "        produto = venda['produto']\n",
        "        quantidade = venda['quantidade']\n",
        "        preco_unitario = venda['preco_unitario']\n",
        "\n",
        "        if produto not in relatorio:\n",
        "            relatorio[produto] = {\n",
        "                'quantidade_total': 0,\n",
        "                'valor_total': 0.0\n",
        "            }\n",
        "\n",
        "        relatorio[produto]['quantidade_total'] += quantidade\n",
        "        relatorio[produto]['valor_total'] += quantidade * preco_unitario\n",
        "\n",
        "    return relatorio"
      ],
      "metadata": {
        "id": "d2CRrMUKMQyp"
      },
      "execution_count": 2,
      "outputs": []
    },
    {
      "cell_type": "markdown",
      "source": [
        "##Função para geração do relatório formatado:"
      ],
      "metadata": {
        "id": "dquCG-xtMx1F"
      }
    },
    {
      "cell_type": "code",
      "source": [
        "def gerar_relatorio(relatorio):\n",
        "    print(\"\\nRelatório de Vendas\\n\")\n",
        "    print(f\"{'Produto':<12} {'Quantidade Total':>18} {'Valor Total':>15}\")\n",
        "    print(\"-\" * 50)\n",
        "\n",
        "    total_geral = 0.0\n",
        "    produto_mais_vendido = None\n",
        "    quantidade_mais_vendida = 0\n",
        "\n",
        "    for produto, dados in relatorio.items():\n",
        "        quantidade = dados['quantidade_total']\n",
        "        valor_total = dados['valor_total']\n",
        "        total_geral += valor_total\n",
        "\n",
        "        print(f\"{produto:<12} {quantidade:>18} R$ {valor_total:>10.2f}\")\n",
        "\n",
        "        if quantidade > quantidade_mais_vendida:\n",
        "            quantidade_mais_vendida = quantidade\n",
        "            produto_mais_vendido = produto\n",
        "\n",
        "    print(\"\\nProduto mais vendido:\", produto_mais_vendido)\n",
        "    print(f\"Total geral: R$ {total_geral:.2f}\")"
      ],
      "metadata": {
        "id": "B4u1PirgNH6F"
      },
      "execution_count": 3,
      "outputs": []
    },
    {
      "cell_type": "markdown",
      "source": [
        "##Função agregadora do código:"
      ],
      "metadata": {
        "id": "C71r-XtANlJE"
      }
    },
    {
      "cell_type": "code",
      "source": [
        "def main():\n",
        "    caminho_arquivo = 'vendas.csv'\n",
        "    vendas = ler_vendas(caminho_arquivo)\n",
        "    relatorio = processar_vendas(vendas)\n",
        "    gerar_relatorio(relatorio)\n",
        "\n",
        "if __name__ == \"__main__\":\n",
        "    main()"
      ],
      "metadata": {
        "colab": {
          "base_uri": "https://localhost:8080/"
        },
        "id": "JGhGW8qgNo4w",
        "outputId": "87f44608-a9da-4258-960d-b7a267ad480c"
      },
      "execution_count": 4,
      "outputs": [
        {
          "output_type": "stream",
          "name": "stdout",
          "text": [
            "\n",
            "Relatório de Vendas\n",
            "\n",
            "Produto        Quantidade Total     Valor Total\n",
            "--------------------------------------------------\n",
            "Camiseta                      4 R$     199.60\n",
            "Calça                         2 R$     199.80\n",
            "Tênis                         1 R$     199.90\n",
            "\n",
            "Produto mais vendido: Camiseta\n",
            "Total geral: R$ 599.30\n"
          ]
        }
      ]
    }
  ]
}
